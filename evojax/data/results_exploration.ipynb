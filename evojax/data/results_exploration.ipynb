{
 "cells": [
  {
   "cell_type": "code",
   "execution_count": null,
   "outputs": [],
   "source": [
    "import numpy as np\n",
    "import pandas as pd\n",
    "import matplotlib.pyplot as plt"
   ],
   "metadata": {
    "collapsed": false,
    "pycharm": {
     "name": "#%%\n"
    }
   }
  },
  {
   "cell_type": "code",
   "execution_count": null,
   "outputs": [],
   "source": [
    "df = pd.read_csv(\"./data/results/results_run_0918_2018.csv\", index_col=(0, 1, 2), header=0)"
   ],
   "metadata": {
    "collapsed": false,
    "pycharm": {
     "name": "#%%\n"
    }
   }
  },
  {
   "cell_type": "code",
   "execution_count": null,
   "outputs": [],
   "source": [
    "df.head()"
   ],
   "metadata": {
    "collapsed": false,
    "pycharm": {
     "name": "#%%\n"
    }
   }
  },
  {
   "cell_type": "code",
   "execution_count": null,
   "outputs": [],
   "source": [
    "all_vals = df.loc[pd.IndexSlice[:, 'validation', :], :]\n",
    "mean_val_acc = all_vals.groupby(level=0).mean()"
   ],
   "metadata": {
    "collapsed": false,
    "pycharm": {
     "name": "#%%\n"
    }
   }
  },
  {
   "cell_type": "code",
   "execution_count": null,
   "outputs": [],
   "source": [
    "epochs = mean_val_acc.columns\n",
    "plt.plot(epochs, mean_val_acc.loc['baseline'], label='baseline')\n",
    "plt.plot(epochs, mean_val_acc.loc['task_labels'], label='task_labels')\n",
    "plt.plot(epochs, mean_val_acc.loc['dropout'], label='dropout')\n",
    "plt.plot(epochs, mean_val_acc.loc['l1_reg'], label='l1_reg')\n",
    "plt.title('Test Accuracy')\n",
    "plt.xlabel('Epochs')\n",
    "plt.ylabel('Accuracy')\n",
    "plt.legend()\n",
    "plt.show()"
   ],
   "metadata": {
    "collapsed": false,
    "pycharm": {
     "name": "#%%\n"
    }
   }
  },
  {
   "cell_type": "code",
   "execution_count": null,
   "outputs": [],
   "source": [
    "all_tests = df.loc[pd.IndexSlice[:, 'test', :], :]\n",
    "mean_test_acc = all_tests.groupby(level=0).mean()\n",
    "mean_test_acc"
   ],
   "metadata": {
    "collapsed": false,
    "pycharm": {
     "name": "#%%\n"
    }
   }
  },
  {
   "cell_type": "code",
   "execution_count": null,
   "outputs": [],
   "source": [
    "epochs = mean_test_acc.columns\n",
    "plt.plot(epochs, mean_test_acc.loc['baseline'], label='baseline')\n",
    "plt.plot(epochs, mean_test_acc.loc['task_labels'], label='task_labels')\n",
    "plt.plot(epochs, mean_test_acc.loc['dropout'], label='dropout')\n",
    "plt.plot(epochs, mean_test_acc.loc['l1_reg'], label='l1_reg')\n",
    "plt.title('Test Accuracy')\n",
    "plt.xlabel('Epochs')\n",
    "plt.ylabel('Accuracy')\n",
    "plt.legend()\n",
    "plt.show()"
   ],
   "metadata": {
    "collapsed": false,
    "pycharm": {
     "name": "#%%\n"
    }
   }
  },
  {
   "cell_type": "code",
   "execution_count": null,
   "outputs": [],
   "source": [
    "df = pd.read_csv(\"./data/results/results_run_0919_1448.csv\", index_col=(0, 1, 2), header=0)"
   ],
   "metadata": {
    "collapsed": false,
    "pycharm": {
     "name": "#%%\n"
    }
   }
  },
  {
   "cell_type": "code",
   "execution_count": null,
   "outputs": [],
   "source": [
    "all_tests = df.loc[pd.IndexSlice[:, 'test', :], :]\n",
    "mean_test_acc = all_tests.groupby(level=0).mean()\n",
    "mean_test_acc"
   ],
   "metadata": {
    "collapsed": false,
    "pycharm": {
     "name": "#%%\n"
    }
   }
  },
  {
   "cell_type": "code",
   "execution_count": null,
   "outputs": [],
   "source": [
    "epochs = mean_test_acc.columns\n",
    "plt.plot(epochs, mean_test_acc.loc['baseline'], label='baseline')\n",
    "plt.plot(epochs, mean_test_acc.loc['dropout'], label='dropout')\n",
    "plt.plot(epochs, mean_test_acc.loc['masking'], label='masking')\n",
    "plt.plot(epochs, mean_test_acc.loc['masking_with_dropout'], label='masking_with_dropout')\n",
    "plt.title('Test Accuracy')\n",
    "plt.xlabel('Epochs')\n",
    "plt.ylabel('Accuracy')\n",
    "plt.legend()\n",
    "plt.show()"
   ],
   "metadata": {
    "collapsed": false,
    "pycharm": {
     "name": "#%%\n"
    }
   }
  },
  {
   "cell_type": "code",
   "execution_count": null,
   "outputs": [],
   "source": [
    "df = pd.read_csv(\"./data/results/results_run_0919_1555.csv\", index_col=(0, 1, 2), header=0)"
   ],
   "metadata": {
    "collapsed": false,
    "pycharm": {
     "name": "#%%\n"
    }
   }
  },
  {
   "cell_type": "code",
   "execution_count": null,
   "outputs": [],
   "source": [
    "all_train = df.loc[pd.IndexSlice[:, 'train', :], :]\n",
    "mean_train_acc = all_train.groupby(level=0).mean()\n",
    "epochs = mean_train_acc.columns\n",
    "plt.plot(epochs, mean_train_acc.loc['baseline'], label='baseline')\n",
    "plt.plot(epochs, mean_train_acc.loc['dropout'], label='dropout')\n",
    "plt.plot(epochs, mean_train_acc.loc['masking'], label='masking')\n",
    "plt.plot(epochs, mean_train_acc.loc['masking_with_dropout'], label='masking_with_dropout')\n",
    "plt.title('Train Accuracy')\n",
    "plt.xlabel('Epochs')\n",
    "plt.ylabel('Accuracy')\n",
    "plt.legend()\n",
    "plt.show()"
   ],
   "metadata": {
    "collapsed": false,
    "pycharm": {
     "name": "#%%\n"
    }
   }
  },
  {
   "cell_type": "code",
   "execution_count": null,
   "outputs": [],
   "source": [
    "all_validation = df.loc[pd.IndexSlice[:, 'validation', :], :]\n",
    "mean_validation_acc = all_validation.groupby(level=0).mean()\n",
    "epochs = mean_validation_acc.columns\n",
    "plt.plot(epochs, mean_validation_acc.loc['baseline'], label='baseline')\n",
    "plt.plot(epochs, mean_validation_acc.loc['dropout'], label='dropout')\n",
    "plt.plot(epochs, mean_validation_acc.loc['masking'], label='masking')\n",
    "plt.plot(epochs, mean_validation_acc.loc['masking_with_dropout'], label='masking_with_dropout')\n",
    "plt.title('Validation Accuracy')\n",
    "plt.xlabel('Epochs')\n",
    "plt.ylabel('Accuracy')\n",
    "plt.legend()\n",
    "plt.show()"
   ],
   "metadata": {
    "collapsed": false,
    "pycharm": {
     "name": "#%%\n"
    }
   }
  },
  {
   "cell_type": "code",
   "execution_count": null,
   "outputs": [],
   "source": [
    "df = pd.read_csv(\"./data/results/results_run_0919_2249.csv\", index_col=(0, 1, 2), header=0)\n",
    "all_tests = df.loc[pd.IndexSlice[:, 'test', :], :]\n",
    "mean_test_acc = all_tests.groupby(level=0).mean()\n",
    "epochs = mean_test_acc.columns\n",
    "plt.plot(epochs, mean_test_acc.loc['baseline'], label='baseline')\n",
    "plt.plot(epochs, mean_test_acc.loc['dropout'], label='dropout')\n",
    "plt.plot(epochs, mean_test_acc.loc['masking'], label='masking')\n",
    "plt.plot(epochs, mean_test_acc.loc['masking_with_dropout'], label='masking_with_dropout')\n",
    "plt.title('Test Accuracy')\n",
    "plt.xlabel('Epochs')\n",
    "plt.ylabel('Accuracy')\n",
    "plt.legend()\n",
    "plt.show()"
   ],
   "metadata": {
    "collapsed": false,
    "pycharm": {
     "name": "#%%\n"
    }
   }
  },
  {
   "cell_type": "code",
   "execution_count": null,
   "outputs": [],
   "source": [
    "all_tests = df.loc[pd.IndexSlice[:, 'test', :], :]\n",
    "all_tests"
   ],
   "metadata": {
    "collapsed": false,
    "pycharm": {
     "name": "#%%\n"
    }
   }
  },
  {
   "cell_type": "markdown",
   "source": [],
   "metadata": {
    "collapsed": false,
    "pycharm": {
     "name": "#%% md\n"
    }
   }
  }
 ],
 "metadata": {
  "kernelspec": {
   "display_name": "Python 3",
   "language": "python",
   "name": "python3"
  },
  "language_info": {
   "codemirror_mode": {
    "name": "ipython",
    "version": 2
   },
   "file_extension": ".py",
   "mimetype": "text/x-python",
   "name": "python",
   "nbconvert_exporter": "python",
   "pygments_lexer": "ipython2",
   "version": "2.7.6"
  }
 },
 "nbformat": 4,
 "nbformat_minor": 0
}