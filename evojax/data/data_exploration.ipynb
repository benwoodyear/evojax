{
 "cells": [
  {
   "cell_type": "code",
   "execution_count": null,
   "outputs": [],
   "source": [
    "import numpy as np\n",
    "import pandas as pd\n",
    "import matplotlib.pyplot as plt\n",
    "\n",
    "from evojax.datasets import full_data_loader, combined_dataset_key, digit, fashion, kuzushiji, cifar"
   ],
   "metadata": {
    "collapsed": false,
    "pycharm": {
     "name": "#%%\n"
    }
   }
  },
  {
   "cell_type": "code",
   "execution_count": null,
   "outputs": [],
   "source": [
    "train, val, test = full_data_loader(dataset_names=[digit, fashion, kuzushiji, cifar])"
   ],
   "metadata": {
    "collapsed": false,
    "pycharm": {
     "name": "#%%\n"
    }
   }
  },
  {
   "cell_type": "code",
   "execution_count": null,
   "outputs": [],
   "source": [
    "train_images = train.dataset_holder[combined_dataset_key]['image']"
   ],
   "metadata": {
    "collapsed": false,
    "pycharm": {
     "name": "#%%\n"
    }
   }
  },
  {
   "cell_type": "code",
   "execution_count": null,
   "outputs": [],
   "source": [
    "plt.imshow(train_images[0], cmap='Greys')"
   ],
   "metadata": {
    "collapsed": false,
    "pycharm": {
     "name": "#%%\n"
    }
   }
  },
  {
   "cell_type": "code",
   "execution_count": null,
   "outputs": [],
   "source": [
    "plt.imshow(np.concatenate([train_images[i] for i in range(5)], axis=1), cmap='Greys')"
   ],
   "metadata": {
    "collapsed": false,
    "pycharm": {
     "name": "#%%\n"
    }
   }
  },
  {
   "cell_type": "code",
   "execution_count": null,
   "outputs": [],
   "source": [
    "digit_test = test.dataset_holder[digit]['image']\n",
    "plt.imsave(fname='digit_sample.pdf', arr=np.squeeze(np.concatenate([digit_test[i] for i in range(5)], axis=1)), cmap='Greys')"
   ],
   "metadata": {
    "collapsed": false,
    "pycharm": {
     "name": "#%%\n"
    }
   }
  },
  {
   "cell_type": "code",
   "execution_count": null,
   "outputs": [],
   "source": [
    "fashion_test = test.dataset_holder[fashion]['image']\n",
    "# plt.imshow(np.concatenate([fashion_test[i] for i in range(5)], axis=1), cmap='Greys')\n",
    "plt.imsave(fname='fashion_sample.pdf', arr=np.squeeze(np.concatenate([fashion_test[i] for i in range(5)], axis=1)), cmap='Greys')"
   ],
   "metadata": {
    "collapsed": false,
    "pycharm": {
     "name": "#%%\n"
    }
   }
  },
  {
   "cell_type": "code",
   "execution_count": null,
   "outputs": [],
   "source": [
    "kuzushiji_test = test.dataset_holder[kuzushiji]['image']\n",
    "# plt.imshow(np.concatenate([kuzushiji_test[i] for i in range(5)], axis=1), cmap='Greys')\n",
    "plt.imsave(fname='kuzushiji_sample.pdf', arr=np.squeeze(np.concatenate([kuzushiji_test[i] for i in range(5)], axis=1)), cmap='Greys')"
   ],
   "metadata": {
    "collapsed": false,
    "pycharm": {
     "name": "#%%\n"
    }
   }
  },
  {
   "cell_type": "code",
   "execution_count": null,
   "outputs": [],
   "source": [
    "cifar_test = test.dataset_holder[cifar]['image']\n",
    "# plt.imshow(np.concatenate([cifar_test[i] for i in range(5)], axis=1), cmap='Greys')\n",
    "plt.imsave(fname='cifar_sample.pdf', arr=np.squeeze(np.concatenate([cifar_test[i] for i in range(5)], axis=1)), cmap='Greys')"
   ],
   "metadata": {
    "collapsed": false,
    "pycharm": {
     "name": "#%%\n"
    }
   }
  },
  {
   "cell_type": "code",
   "execution_count": null,
   "outputs": [],
   "source": [
    "df = pd.read_csv(\"./results/dataset_comparison_0924_1133.csv\", index_col=(0, 1, 2), header=0)"
   ],
   "metadata": {
    "collapsed": false,
    "pycharm": {
     "name": "#%%\n"
    }
   }
  },
  {
   "cell_type": "code",
   "execution_count": null,
   "outputs": [],
   "source": [
    "df.head()"
   ],
   "metadata": {
    "collapsed": false,
    "pycharm": {
     "name": "#%%\n"
    }
   }
  },
  {
   "cell_type": "code",
   "execution_count": null,
   "outputs": [],
   "source": [
    "df = df.fillna(method='ffill', axis=1)"
   ],
   "metadata": {
    "collapsed": false,
    "pycharm": {
     "name": "#%%\n"
    }
   }
  },
  {
   "cell_type": "code",
   "execution_count": null,
   "outputs": [],
   "source": [
    "all_mnist = df.loc[pd.IndexSlice[:, digit, :], :]\n",
    "mean_mnist_acc = all_mnist.groupby(level=0).mean()\n",
    "mean_mnist_acc.iloc[:, -1]"
   ],
   "metadata": {
    "collapsed": false,
    "pycharm": {
     "name": "#%%\n"
    }
   }
  },
  {
   "cell_type": "code",
   "execution_count": null,
   "outputs": [],
   "source": [
    "all_fashion = df.loc[pd.IndexSlice[:, fashion, :], :]\n",
    "mean_fashion_acc = all_fashion.groupby(level=0).mean()\n",
    "mean_fashion_acc.iloc[:, -1]"
   ],
   "metadata": {
    "collapsed": false,
    "pycharm": {
     "name": "#%%\n"
    }
   }
  },
  {
   "cell_type": "code",
   "execution_count": null,
   "outputs": [],
   "source": [
    "all_kuzushiji = df.loc[pd.IndexSlice[:, kuzushiji, :], :]\n",
    "mean_kuzushiji_acc = all_kuzushiji.groupby(level=0).mean()\n",
    "mean_kuzushiji_acc.iloc[:, -1]"
   ],
   "metadata": {
    "collapsed": false,
    "pycharm": {
     "name": "#%%\n"
    }
   }
  },
  {
   "cell_type": "code",
   "execution_count": null,
   "outputs": [],
   "source": [
    "all_cifar = df.loc[pd.IndexSlice[:, cifar, :], :]\n",
    "mean_cifar_acc = all_cifar.groupby(level=0).mean()\n",
    "mean_cifar_acc.iloc[:, -1]"
   ],
   "metadata": {
    "collapsed": false,
    "pycharm": {
     "name": "#%%\n"
    }
   }
  },
  {
   "cell_type": "code",
   "execution_count": null,
   "outputs": [],
   "source": [],
   "metadata": {
    "collapsed": false,
    "pycharm": {
     "name": "#%%\n"
    }
   }
  },
  {
   "cell_type": "code",
   "execution_count": null,
   "outputs": [],
   "source": [
    "df = pd.read_csv(\"./results/dataset_comparison_0924_1218.csv\", index_col=(0, 1, 2), header=0)"
   ],
   "metadata": {
    "collapsed": false,
    "pycharm": {
     "name": "#%%\n"
    }
   }
  },
  {
   "cell_type": "code",
   "execution_count": null,
   "outputs": [],
   "source": [
    "df.head()"
   ],
   "metadata": {
    "collapsed": false,
    "pycharm": {
     "name": "#%%\n"
    }
   }
  },
  {
   "cell_type": "code",
   "execution_count": null,
   "outputs": [],
   "source": [
    "# df = df.fillna(method='ffill', axis=1)"
   ],
   "metadata": {
    "collapsed": false,
    "pycharm": {
     "name": "#%%\n"
    }
   }
  },
  {
   "cell_type": "code",
   "execution_count": null,
   "outputs": [],
   "source": [
    "all_mnist = df.loc[pd.IndexSlice[:, digit, :], :]\n",
    "mean_mnist_acc = all_mnist.groupby(level=0).mean()\n",
    "mean_mnist_acc = mean_mnist_acc.iloc[:, -5:].mean(axis=1)"
   ],
   "metadata": {
    "collapsed": false,
    "pycharm": {
     "name": "#%%\n"
    }
   }
  },
  {
   "cell_type": "code",
   "execution_count": null,
   "outputs": [],
   "source": [
    "all_fashion = df.loc[pd.IndexSlice[:, fashion, :], :]\n",
    "mean_fashion_acc = all_fashion.groupby(level=0).mean()\n",
    "mean_fashion_acc = mean_fashion_acc.iloc[:, -5:].mean(axis=1)"
   ],
   "metadata": {
    "collapsed": false,
    "pycharm": {
     "name": "#%%\n"
    }
   }
  },
  {
   "cell_type": "code",
   "execution_count": null,
   "outputs": [],
   "source": [
    "all_kuzushiji = df.loc[pd.IndexSlice[:, kuzushiji, :], :]\n",
    "mean_kuzushiji_acc = all_kuzushiji.groupby(level=0).mean()\n",
    "mean_kuzushiji_acc = mean_kuzushiji_acc.iloc[:, -5:].mean(axis=1)"
   ],
   "metadata": {
    "collapsed": false,
    "pycharm": {
     "name": "#%%\n"
    }
   }
  },
  {
   "cell_type": "code",
   "execution_count": null,
   "outputs": [],
   "source": [
    "all_cifar = df.loc[pd.IndexSlice[:, cifar, :], :]\n",
    "mean_cifar_acc = all_cifar.groupby(level=0).mean()\n",
    "mean_cifar_acc = mean_cifar_acc.iloc[:, -5:].mean(axis=1)"
   ],
   "metadata": {
    "collapsed": false,
    "pycharm": {
     "name": "#%%\n"
    }
   }
  },
  {
   "cell_type": "code",
   "execution_count": null,
   "outputs": [],
   "source": [
    "acc_matrix_vals = {0: mean_mnist_acc, 1: mean_fashion_acc, 2: mean_kuzushiji_acc, 3: mean_cifar_acc}"
   ],
   "metadata": {
    "collapsed": false,
    "pycharm": {
     "name": "#%%\n"
    }
   }
  },
  {
   "cell_type": "code",
   "execution_count": null,
   "outputs": [],
   "source": [
    "acc_matrix_vals"
   ],
   "metadata": {
    "collapsed": false,
    "pycharm": {
     "name": "#%%\n"
    }
   }
  },
  {
   "cell_type": "code",
   "execution_count": null,
   "outputs": [],
   "source": [
    "acc_matrix_vals[0].loc[f'{digit}_{fashion}']"
   ],
   "metadata": {
    "collapsed": false,
    "pycharm": {
     "name": "#%%\n"
    }
   }
  },
  {
   "cell_type": "code",
   "execution_count": null,
   "outputs": [],
   "source": [
    "acc_matrix = np.zeros((4, 4))\n",
    "for i, ds1 in enumerate([digit, fashion, kuzushiji, cifar]):\n",
    "    for j, ds2 in enumerate([digit, fashion, kuzushiji, cifar]):\n",
    "        if i == j:\n",
    "            acc_matrix[i, j] = acc_matrix_vals[i].loc[ds1]\n",
    "        else:\n",
    "            try:\n",
    "                acc_matrix[i, j] = acc_matrix_vals[i].loc[f'{ds1}_{ds2}']\n",
    "            except KeyError:\n",
    "                pass\n",
    "            try:\n",
    "                acc_matrix[i, j] = acc_matrix_vals[i].loc[f'{ds2}_{ds1}']\n",
    "            except KeyError:\n",
    "                pass"
   ],
   "metadata": {
    "collapsed": false,
    "pycharm": {
     "name": "#%%\n"
    }
   }
  },
  {
   "cell_type": "code",
   "execution_count": null,
   "outputs": [],
   "source": [
    "acc_matrix"
   ],
   "metadata": {
    "collapsed": false,
    "pycharm": {
     "name": "#%%\n"
    }
   }
  },
  {
   "cell_type": "code",
   "execution_count": null,
   "outputs": [],
   "source": [
    "solo_train = np.diag(acc_matrix)\n",
    "full_solo_train = np.repeat(solo_train[:, None], 4, axis=1)"
   ],
   "metadata": {
    "collapsed": false,
    "pycharm": {
     "name": "#%%\n"
    }
   }
  },
  {
   "cell_type": "code",
   "execution_count": null,
   "outputs": [],
   "source": [
    "full_solo_train"
   ],
   "metadata": {
    "collapsed": false,
    "pycharm": {
     "name": "#%%\n"
    }
   }
  },
  {
   "cell_type": "code",
   "execution_count": null,
   "outputs": [],
   "source": [
    "cotraining_acc = pd.DataFrame(np.around(np.divide(acc_matrix, full_solo_train), 3), columns=[digit, fashion, kuzushiji, cifar], index=[digit, fashion, kuzushiji, cifar])\n",
    "cotraining_acc.index.name = 'Dataset Test Accuracy'\n",
    "cotraining_acc.columns.name = 'Trained With'"
   ],
   "metadata": {
    "collapsed": false,
    "pycharm": {
     "name": "#%%\n"
    }
   }
  },
  {
   "cell_type": "code",
   "execution_count": null,
   "outputs": [],
   "source": [
    "cotraining_acc"
   ],
   "metadata": {
    "collapsed": false,
    "pycharm": {
     "name": "#%%\n"
    }
   }
  },
  {
   "cell_type": "code",
   "execution_count": null,
   "outputs": [],
   "source": [
    "print(cotraining_acc.style.format('{:.3f}').to_latex())"
   ],
   "metadata": {
    "collapsed": false,
    "pycharm": {
     "name": "#%%\n"
    }
   }
  },
  {
   "cell_type": "code",
   "execution_count": 14,
   "outputs": [],
   "source": [
    "df = pd.read_csv(\"./results/dataset_comparison_0924_1133.csv\", index_col=(0, 1, 2), header=0)"
   ],
   "metadata": {
    "collapsed": false,
    "pycharm": {
     "name": "#%%\n"
    }
   }
  },
  {
   "cell_type": "code",
   "execution_count": 15,
   "outputs": [
    {
     "data": {
      "text/plain": "                           0         1         2         3         4  \\\nMNIST train      0  0.898629  0.975225  0.985946  0.990659  0.994226   \n      validation 0  0.963246  0.977805  0.980469  0.983310  0.983931   \n      test       0  0.967556  0.981445  0.983073  0.985786  0.984701   \n      MNIST      0  0.967556  0.981445  0.983073  0.985786  0.984701   \n      train      1  0.890667  0.976754  0.985797  0.991699  0.994438   \n\n                           5   6   7   8   9  10  11  12  13  14  \nMNIST train      0  0.996688 NaN NaN NaN NaN NaN NaN NaN NaN NaN  \n      validation 0  0.984109 NaN NaN NaN NaN NaN NaN NaN NaN NaN  \n      test       0  0.985243 NaN NaN NaN NaN NaN NaN NaN NaN NaN  \n      MNIST      0  0.985243 NaN NaN NaN NaN NaN NaN NaN NaN NaN  \n      train      1       NaN NaN NaN NaN NaN NaN NaN NaN NaN NaN  ",
      "text/html": "<div>\n<style scoped>\n    .dataframe tbody tr th:only-of-type {\n        vertical-align: middle;\n    }\n\n    .dataframe tbody tr th {\n        vertical-align: top;\n    }\n\n    .dataframe thead th {\n        text-align: right;\n    }\n</style>\n<table border=\"1\" class=\"dataframe\">\n  <thead>\n    <tr style=\"text-align: right;\">\n      <th></th>\n      <th></th>\n      <th></th>\n      <th>0</th>\n      <th>1</th>\n      <th>2</th>\n      <th>3</th>\n      <th>4</th>\n      <th>5</th>\n      <th>6</th>\n      <th>7</th>\n      <th>8</th>\n      <th>9</th>\n      <th>10</th>\n      <th>11</th>\n      <th>12</th>\n      <th>13</th>\n      <th>14</th>\n    </tr>\n  </thead>\n  <tbody>\n    <tr>\n      <th rowspan=\"5\" valign=\"top\">MNIST</th>\n      <th>train</th>\n      <th>0</th>\n      <td>0.898629</td>\n      <td>0.975225</td>\n      <td>0.985946</td>\n      <td>0.990659</td>\n      <td>0.994226</td>\n      <td>0.996688</td>\n      <td>NaN</td>\n      <td>NaN</td>\n      <td>NaN</td>\n      <td>NaN</td>\n      <td>NaN</td>\n      <td>NaN</td>\n      <td>NaN</td>\n      <td>NaN</td>\n      <td>NaN</td>\n    </tr>\n    <tr>\n      <th>validation</th>\n      <th>0</th>\n      <td>0.963246</td>\n      <td>0.977805</td>\n      <td>0.980469</td>\n      <td>0.983310</td>\n      <td>0.983931</td>\n      <td>0.984109</td>\n      <td>NaN</td>\n      <td>NaN</td>\n      <td>NaN</td>\n      <td>NaN</td>\n      <td>NaN</td>\n      <td>NaN</td>\n      <td>NaN</td>\n      <td>NaN</td>\n      <td>NaN</td>\n    </tr>\n    <tr>\n      <th>test</th>\n      <th>0</th>\n      <td>0.967556</td>\n      <td>0.981445</td>\n      <td>0.983073</td>\n      <td>0.985786</td>\n      <td>0.984701</td>\n      <td>0.985243</td>\n      <td>NaN</td>\n      <td>NaN</td>\n      <td>NaN</td>\n      <td>NaN</td>\n      <td>NaN</td>\n      <td>NaN</td>\n      <td>NaN</td>\n      <td>NaN</td>\n      <td>NaN</td>\n    </tr>\n    <tr>\n      <th>MNIST</th>\n      <th>0</th>\n      <td>0.967556</td>\n      <td>0.981445</td>\n      <td>0.983073</td>\n      <td>0.985786</td>\n      <td>0.984701</td>\n      <td>0.985243</td>\n      <td>NaN</td>\n      <td>NaN</td>\n      <td>NaN</td>\n      <td>NaN</td>\n      <td>NaN</td>\n      <td>NaN</td>\n      <td>NaN</td>\n      <td>NaN</td>\n      <td>NaN</td>\n    </tr>\n    <tr>\n      <th>train</th>\n      <th>1</th>\n      <td>0.890667</td>\n      <td>0.976754</td>\n      <td>0.985797</td>\n      <td>0.991699</td>\n      <td>0.994438</td>\n      <td>NaN</td>\n      <td>NaN</td>\n      <td>NaN</td>\n      <td>NaN</td>\n      <td>NaN</td>\n      <td>NaN</td>\n      <td>NaN</td>\n      <td>NaN</td>\n      <td>NaN</td>\n      <td>NaN</td>\n    </tr>\n  </tbody>\n</table>\n</div>"
     },
     "execution_count": 15,
     "metadata": {},
     "output_type": "execute_result"
    }
   ],
   "source": [
    "df.head()"
   ],
   "metadata": {
    "collapsed": false,
    "pycharm": {
     "name": "#%%\n"
    }
   }
  },
  {
   "cell_type": "code",
   "execution_count": 16,
   "outputs": [],
   "source": [
    "df = df.fillna(method='ffill', axis=1)"
   ],
   "metadata": {
    "collapsed": false,
    "pycharm": {
     "name": "#%%\n"
    }
   }
  },
  {
   "cell_type": "code",
   "execution_count": 19,
   "outputs": [
    {
     "data": {
      "text/plain": "MNIST           0.985135\nMNIST_CIFAR     0.983464\nMNIST_FMNIST    0.983746\nMNIST_KMNIST    0.984223\nName: 14, dtype: float64"
     },
     "execution_count": 19,
     "metadata": {},
     "output_type": "execute_result"
    }
   ],
   "source": [
    "all_mnist = df.loc[pd.IndexSlice[:, digit, :], :]\n",
    "mean_mnist_acc = all_mnist.groupby(level=0).mean()\n",
    "mean_mnist_acc.iloc[:, -1]"
   ],
   "metadata": {
    "collapsed": false,
    "pycharm": {
     "name": "#%%\n"
    }
   }
  },
  {
   "cell_type": "code",
   "execution_count": 20,
   "outputs": [
    {
     "data": {
      "text/plain": "FMNIST           0.904970\nFMNIST_CIFAR     0.903407\nFMNIST_KMNIST    0.906163\nMNIST_FMNIST     0.904970\nName: 14, dtype: float64"
     },
     "execution_count": 20,
     "metadata": {},
     "output_type": "execute_result"
    }
   ],
   "source": [
    "all_fashion = df.loc[pd.IndexSlice[:, fashion, :], :]\n",
    "mean_fashion_acc = all_fashion.groupby(level=0).mean()\n",
    "mean_fashion_acc.iloc[:, -1]"
   ],
   "metadata": {
    "collapsed": false,
    "pycharm": {
     "name": "#%%\n"
    }
   }
  },
  {
   "cell_type": "code",
   "execution_count": 21,
   "outputs": [
    {
     "data": {
      "text/plain": "FMNIST_KMNIST    0.917057\nKMNIST           0.926823\nKMNIST_CIFAR     0.916168\nMNIST_KMNIST     0.920616\nName: 14, dtype: float64"
     },
     "execution_count": 21,
     "metadata": {},
     "output_type": "execute_result"
    }
   ],
   "source": [
    "all_kuzushiji = df.loc[pd.IndexSlice[:, kuzushiji, :], :]\n",
    "mean_kuzushiji_acc = all_kuzushiji.groupby(level=0).mean()\n",
    "mean_kuzushiji_acc.iloc[:, -1]"
   ],
   "metadata": {
    "collapsed": false,
    "pycharm": {
     "name": "#%%\n"
    }
   }
  },
  {
   "cell_type": "code",
   "execution_count": 22,
   "outputs": [
    {
     "data": {
      "text/plain": "CIFAR           0.572005\nFMNIST_CIFAR    0.569705\nKMNIST_CIFAR    0.586458\nMNIST_CIFAR     0.581988\nName: 14, dtype: float64"
     },
     "execution_count": 22,
     "metadata": {},
     "output_type": "execute_result"
    }
   ],
   "source": [
    "all_cifar = df.loc[pd.IndexSlice[:, cifar, :], :]\n",
    "mean_cifar_acc = all_cifar.groupby(level=0).mean()\n",
    "mean_cifar_acc.iloc[:, -1]"
   ],
   "metadata": {
    "collapsed": false,
    "pycharm": {
     "name": "#%%\n"
    }
   }
  },
  {
   "cell_type": "code",
   "execution_count": null,
   "outputs": [],
   "source": [],
   "metadata": {
    "collapsed": false,
    "pycharm": {
     "name": "#%%\n"
    }
   }
  },
  {
   "cell_type": "code",
   "execution_count": 23,
   "outputs": [],
   "source": [
    "df = pd.read_csv(\"./results/dataset_comparison_0924_1218.csv\", index_col=(0, 1, 2), header=0)"
   ],
   "metadata": {
    "collapsed": false,
    "pycharm": {
     "name": "#%%\n"
    }
   }
  },
  {
   "cell_type": "code",
   "execution_count": 24,
   "outputs": [
    {
     "data": {
      "text/plain": "                           0         1         2         3         4  \\\nMNIST train      0  0.898629  0.975225  0.985946  0.990659  0.994226   \n      validation 0  0.963246  0.977805  0.980469  0.983310  0.983931   \n      test       0  0.967556  0.981445  0.983073  0.985786  0.984701   \n      MNIST      0  0.967556  0.981445  0.983073  0.985786  0.984701   \n      train      1  0.890667  0.976754  0.985797  0.991699  0.994438   \n\n                           5         6         7         8         9  \\\nMNIST train      0  0.996688  0.998047  0.998323  0.999406  0.999682   \n      validation 0  0.984109  0.983665  0.984464  0.985707  0.986594   \n      test       0  0.985243  0.985352  0.986545  0.986328  0.986871   \n      MNIST      0  0.985243  0.985352  0.986545  0.986328  0.986871   \n      train      1  0.996582  0.998132  0.998896  0.999554  0.999788   \n\n                          10        11        12        13        14  \\\nMNIST train      0  0.999936  1.000000  1.000000  1.000000  1.000000   \n      validation 0  0.985973  0.987127  0.986950  0.986950  0.986417   \n      test       0  0.987305  0.987739  0.987305  0.986437  0.986437   \n      MNIST      0  0.987305  0.987739  0.987305  0.986437  0.986437   \n      train      1  0.999958  0.999873  0.999936  1.000000  1.000000   \n\n                          15        16        17        18        19  \nMNIST train      0  1.000000  1.000000  1.000000  1.000000  1.000000  \n      validation 0  0.986772  0.986239  0.986772  0.986328  0.985795  \n      test       0  0.987088  0.986328  0.987847  0.986437  0.986762  \n      MNIST      0  0.987088  0.986328  0.987847  0.986437  0.986762  \n      train      1  1.000000  1.000000  1.000000  1.000000  1.000000  ",
      "text/html": "<div>\n<style scoped>\n    .dataframe tbody tr th:only-of-type {\n        vertical-align: middle;\n    }\n\n    .dataframe tbody tr th {\n        vertical-align: top;\n    }\n\n    .dataframe thead th {\n        text-align: right;\n    }\n</style>\n<table border=\"1\" class=\"dataframe\">\n  <thead>\n    <tr style=\"text-align: right;\">\n      <th></th>\n      <th></th>\n      <th></th>\n      <th>0</th>\n      <th>1</th>\n      <th>2</th>\n      <th>3</th>\n      <th>4</th>\n      <th>5</th>\n      <th>6</th>\n      <th>7</th>\n      <th>8</th>\n      <th>9</th>\n      <th>10</th>\n      <th>11</th>\n      <th>12</th>\n      <th>13</th>\n      <th>14</th>\n      <th>15</th>\n      <th>16</th>\n      <th>17</th>\n      <th>18</th>\n      <th>19</th>\n    </tr>\n  </thead>\n  <tbody>\n    <tr>\n      <th rowspan=\"5\" valign=\"top\">MNIST</th>\n      <th>train</th>\n      <th>0</th>\n      <td>0.898629</td>\n      <td>0.975225</td>\n      <td>0.985946</td>\n      <td>0.990659</td>\n      <td>0.994226</td>\n      <td>0.996688</td>\n      <td>0.998047</td>\n      <td>0.998323</td>\n      <td>0.999406</td>\n      <td>0.999682</td>\n      <td>0.999936</td>\n      <td>1.000000</td>\n      <td>1.000000</td>\n      <td>1.000000</td>\n      <td>1.000000</td>\n      <td>1.000000</td>\n      <td>1.000000</td>\n      <td>1.000000</td>\n      <td>1.000000</td>\n      <td>1.000000</td>\n    </tr>\n    <tr>\n      <th>validation</th>\n      <th>0</th>\n      <td>0.963246</td>\n      <td>0.977805</td>\n      <td>0.980469</td>\n      <td>0.983310</td>\n      <td>0.983931</td>\n      <td>0.984109</td>\n      <td>0.983665</td>\n      <td>0.984464</td>\n      <td>0.985707</td>\n      <td>0.986594</td>\n      <td>0.985973</td>\n      <td>0.987127</td>\n      <td>0.986950</td>\n      <td>0.986950</td>\n      <td>0.986417</td>\n      <td>0.986772</td>\n      <td>0.986239</td>\n      <td>0.986772</td>\n      <td>0.986328</td>\n      <td>0.985795</td>\n    </tr>\n    <tr>\n      <th>test</th>\n      <th>0</th>\n      <td>0.967556</td>\n      <td>0.981445</td>\n      <td>0.983073</td>\n      <td>0.985786</td>\n      <td>0.984701</td>\n      <td>0.985243</td>\n      <td>0.985352</td>\n      <td>0.986545</td>\n      <td>0.986328</td>\n      <td>0.986871</td>\n      <td>0.987305</td>\n      <td>0.987739</td>\n      <td>0.987305</td>\n      <td>0.986437</td>\n      <td>0.986437</td>\n      <td>0.987088</td>\n      <td>0.986328</td>\n      <td>0.987847</td>\n      <td>0.986437</td>\n      <td>0.986762</td>\n    </tr>\n    <tr>\n      <th>MNIST</th>\n      <th>0</th>\n      <td>0.967556</td>\n      <td>0.981445</td>\n      <td>0.983073</td>\n      <td>0.985786</td>\n      <td>0.984701</td>\n      <td>0.985243</td>\n      <td>0.985352</td>\n      <td>0.986545</td>\n      <td>0.986328</td>\n      <td>0.986871</td>\n      <td>0.987305</td>\n      <td>0.987739</td>\n      <td>0.987305</td>\n      <td>0.986437</td>\n      <td>0.986437</td>\n      <td>0.987088</td>\n      <td>0.986328</td>\n      <td>0.987847</td>\n      <td>0.986437</td>\n      <td>0.986762</td>\n    </tr>\n    <tr>\n      <th>train</th>\n      <th>1</th>\n      <td>0.890667</td>\n      <td>0.976754</td>\n      <td>0.985797</td>\n      <td>0.991699</td>\n      <td>0.994438</td>\n      <td>0.996582</td>\n      <td>0.998132</td>\n      <td>0.998896</td>\n      <td>0.999554</td>\n      <td>0.999788</td>\n      <td>0.999958</td>\n      <td>0.999873</td>\n      <td>0.999936</td>\n      <td>1.000000</td>\n      <td>1.000000</td>\n      <td>1.000000</td>\n      <td>1.000000</td>\n      <td>1.000000</td>\n      <td>1.000000</td>\n      <td>1.000000</td>\n    </tr>\n  </tbody>\n</table>\n</div>"
     },
     "execution_count": 24,
     "metadata": {},
     "output_type": "execute_result"
    }
   ],
   "source": [
    "df.head()"
   ],
   "metadata": {
    "collapsed": false,
    "pycharm": {
     "name": "#%%\n"
    }
   }
  },
  {
   "cell_type": "code",
   "execution_count": 25,
   "outputs": [],
   "source": [
    "# df = df.fillna(method='ffill', axis=1)"
   ],
   "metadata": {
    "collapsed": false,
    "pycharm": {
     "name": "#%%\n"
    }
   }
  },
  {
   "cell_type": "code",
   "execution_count": 42,
   "outputs": [],
   "source": [
    "all_mnist = df.loc[pd.IndexSlice[:, digit, :], :]\n",
    "mean_mnist_acc = all_mnist.groupby(level=0).mean()\n",
    "mean_mnist_acc = mean_mnist_acc.iloc[:, -5:].mean(axis=1)"
   ],
   "metadata": {
    "collapsed": false,
    "pycharm": {
     "name": "#%%\n"
    }
   }
  },
  {
   "cell_type": "code",
   "execution_count": 43,
   "outputs": [],
   "source": [
    "all_fashion = df.loc[pd.IndexSlice[:, fashion, :], :]\n",
    "mean_fashion_acc = all_fashion.groupby(level=0).mean()\n",
    "mean_fashion_acc = mean_fashion_acc.iloc[:, -5:].mean(axis=1)"
   ],
   "metadata": {
    "collapsed": false,
    "pycharm": {
     "name": "#%%\n"
    }
   }
  },
  {
   "cell_type": "code",
   "execution_count": 44,
   "outputs": [],
   "source": [
    "all_kuzushiji = df.loc[pd.IndexSlice[:, kuzushiji, :], :]\n",
    "mean_kuzushiji_acc = all_kuzushiji.groupby(level=0).mean()\n",
    "mean_kuzushiji_acc = mean_kuzushiji_acc.iloc[:, -5:].mean(axis=1)"
   ],
   "metadata": {
    "collapsed": false,
    "pycharm": {
     "name": "#%%\n"
    }
   }
  },
  {
   "cell_type": "code",
   "execution_count": 45,
   "outputs": [],
   "source": [
    "all_cifar = df.loc[pd.IndexSlice[:, cifar, :], :]\n",
    "mean_cifar_acc = all_cifar.groupby(level=0).mean()\n",
    "mean_cifar_acc = mean_cifar_acc.iloc[:, -5:].mean(axis=1)"
   ],
   "metadata": {
    "collapsed": false,
    "pycharm": {
     "name": "#%%\n"
    }
   }
  },
  {
   "cell_type": "code",
   "execution_count": 51,
   "outputs": [],
   "source": [
    "acc_matrix_vals = {0: mean_mnist_acc, 1: mean_fashion_acc, 2: mean_kuzushiji_acc, 3: mean_cifar_acc}"
   ],
   "metadata": {
    "collapsed": false,
    "pycharm": {
     "name": "#%%\n"
    }
   }
  },
  {
   "cell_type": "code",
   "execution_count": 52,
   "outputs": [
    {
     "data": {
      "text/plain": "{0: MNIST           0.986745\n MNIST_CIFAR     0.983806\n MNIST_FMNIST    0.983164\n MNIST_KMNIST    0.986727\n dtype: float64,\n 1: FMNIST           0.911007\n FMNIST_CIFAR     0.903220\n FMNIST_KMNIST    0.911753\n MNIST_FMNIST     0.911363\n dtype: float64,\n 2: FMNIST_KMNIST    0.916632\n KMNIST           0.930647\n KMNIST_CIFAR     0.918038\n MNIST_KMNIST     0.927591\n dtype: float64,\n 3: CIFAR           0.574388\n FMNIST_CIFAR    0.577044\n KMNIST_CIFAR    0.577635\n MNIST_CIFAR     0.584310\n dtype: float64}"
     },
     "execution_count": 52,
     "metadata": {},
     "output_type": "execute_result"
    }
   ],
   "source": [
    "acc_matrix_vals"
   ],
   "metadata": {
    "collapsed": false,
    "pycharm": {
     "name": "#%%\n"
    }
   }
  },
  {
   "cell_type": "code",
   "execution_count": 53,
   "outputs": [
    {
     "data": {
      "text/plain": "0.9831640648841858"
     },
     "execution_count": 53,
     "metadata": {},
     "output_type": "execute_result"
    }
   ],
   "source": [
    "acc_matrix_vals[0].loc[f'{digit}_{fashion}']"
   ],
   "metadata": {
    "collapsed": false,
    "pycharm": {
     "name": "#%%\n"
    }
   }
  },
  {
   "cell_type": "code",
   "execution_count": 55,
   "outputs": [],
   "source": [
    "acc_matrix = np.zeros((4, 4))\n",
    "for i, ds1 in enumerate([digit, fashion, kuzushiji, cifar]):\n",
    "    for j, ds2 in enumerate([digit, fashion, kuzushiji, cifar]):\n",
    "        if i == j:\n",
    "            acc_matrix[i, j] = acc_matrix_vals[i].loc[ds1]\n",
    "        else:\n",
    "            try:\n",
    "                acc_matrix[i, j] = acc_matrix_vals[i].loc[f'{ds1}_{ds2}']\n",
    "            except KeyError:\n",
    "                pass\n",
    "            try:\n",
    "                acc_matrix[i, j] = acc_matrix_vals[i].loc[f'{ds2}_{ds1}']\n",
    "            except KeyError:\n",
    "                pass"
   ],
   "metadata": {
    "collapsed": false,
    "pycharm": {
     "name": "#%%\n"
    }
   }
  },
  {
   "cell_type": "code",
   "execution_count": 56,
   "outputs": [
    {
     "data": {
      "text/plain": "array([[0.98674479, 0.98316406, 0.98672742, 0.98380642],\n       [0.91136285, 0.91100695, 0.91175347, 0.9032205 ],\n       [0.92759115, 0.91663194, 0.9306467 , 0.91803819],\n       [0.58430989, 0.57704427, 0.57763455, 0.57438803]])"
     },
     "execution_count": 56,
     "metadata": {},
     "output_type": "execute_result"
    }
   ],
   "source": [
    "acc_matrix"
   ],
   "metadata": {
    "collapsed": false,
    "pycharm": {
     "name": "#%%\n"
    }
   }
  },
  {
   "cell_type": "code",
   "execution_count": 61,
   "outputs": [],
   "source": [
    "solo_train = np.diag(acc_matrix)\n",
    "full_solo_train = np.repeat(solo_train[:, None], 4, axis=1)"
   ],
   "metadata": {
    "collapsed": false,
    "pycharm": {
     "name": "#%%\n"
    }
   }
  },
  {
   "cell_type": "code",
   "execution_count": 62,
   "outputs": [
    {
     "data": {
      "text/plain": "array([[0.98674479, 0.98674479, 0.98674479, 0.98674479],\n       [0.91100695, 0.91100695, 0.91100695, 0.91100695],\n       [0.9306467 , 0.9306467 , 0.9306467 , 0.9306467 ],\n       [0.57438803, 0.57438803, 0.57438803, 0.57438803]])"
     },
     "execution_count": 62,
     "metadata": {},
     "output_type": "execute_result"
    }
   ],
   "source": [
    "full_solo_train"
   ],
   "metadata": {
    "collapsed": false,
    "pycharm": {
     "name": "#%%\n"
    }
   }
  },
  {
   "cell_type": "code",
   "execution_count": 67,
   "outputs": [],
   "source": [
    "cotraining_acc = pd.DataFrame(np.around(np.divide(acc_matrix, full_solo_train), 3), columns=[digit, fashion, kuzushiji, cifar], index=[digit, fashion, kuzushiji, cifar])\n",
    "cotraining_acc.index.name = 'Dataset Test Accuracy'\n",
    "cotraining_acc.columns.name = 'Trained With'"
   ],
   "metadata": {
    "collapsed": false,
    "pycharm": {
     "name": "#%%\n"
    }
   }
  },
  {
   "cell_type": "code",
   "execution_count": 68,
   "outputs": [
    {
     "data": {
      "text/plain": "Trained With           MNIST  FMNIST  KMNIST  CIFAR\nDataset Test Accuracy                              \nMNIST                  1.000   0.996   1.000  0.997\nFMNIST                 1.000   1.000   1.001  0.991\nKMNIST                 0.997   0.985   1.000  0.986\nCIFAR                  1.017   1.005   1.006  1.000",
      "text/html": "<div>\n<style scoped>\n    .dataframe tbody tr th:only-of-type {\n        vertical-align: middle;\n    }\n\n    .dataframe tbody tr th {\n        vertical-align: top;\n    }\n\n    .dataframe thead th {\n        text-align: right;\n    }\n</style>\n<table border=\"1\" class=\"dataframe\">\n  <thead>\n    <tr style=\"text-align: right;\">\n      <th>Trained With</th>\n      <th>MNIST</th>\n      <th>FMNIST</th>\n      <th>KMNIST</th>\n      <th>CIFAR</th>\n    </tr>\n    <tr>\n      <th>Dataset Test Accuracy</th>\n      <th></th>\n      <th></th>\n      <th></th>\n      <th></th>\n    </tr>\n  </thead>\n  <tbody>\n    <tr>\n      <th>MNIST</th>\n      <td>1.000</td>\n      <td>0.996</td>\n      <td>1.000</td>\n      <td>0.997</td>\n    </tr>\n    <tr>\n      <th>FMNIST</th>\n      <td>1.000</td>\n      <td>1.000</td>\n      <td>1.001</td>\n      <td>0.991</td>\n    </tr>\n    <tr>\n      <th>KMNIST</th>\n      <td>0.997</td>\n      <td>0.985</td>\n      <td>1.000</td>\n      <td>0.986</td>\n    </tr>\n    <tr>\n      <th>CIFAR</th>\n      <td>1.017</td>\n      <td>1.005</td>\n      <td>1.006</td>\n      <td>1.000</td>\n    </tr>\n  </tbody>\n</table>\n</div>"
     },
     "execution_count": 68,
     "metadata": {},
     "output_type": "execute_result"
    }
   ],
   "source": [
    "cotraining_acc"
   ],
   "metadata": {
    "collapsed": false,
    "pycharm": {
     "name": "#%%\n"
    }
   }
  },
  {
   "cell_type": "code",
   "execution_count": 75,
   "outputs": [
    {
     "name": "stdout",
     "output_type": "stream",
     "text": [
      "\\begin{tabular}{lrrrr}\n",
      "Trained With & MNIST & FMNIST & KMNIST & CIFAR \\\\\n",
      "Dataset Test Accuracy &  &  &  &  \\\\\n",
      "MNIST & 1.000 & 0.996 & 1.000 & 0.997 \\\\\n",
      "FMNIST & 1.000 & 1.000 & 1.001 & 0.991 \\\\\n",
      "KMNIST & 0.997 & 0.985 & 1.000 & 0.986 \\\\\n",
      "CIFAR & 1.017 & 1.005 & 1.006 & 1.000 \\\\\n",
      "\\end{tabular}\n",
      "\n"
     ]
    }
   ],
   "source": [
    "print(cotraining_acc.style.format('{:.3f}').to_latex())"
   ],
   "metadata": {
    "collapsed": false,
    "pycharm": {
     "name": "#%%\n"
    }
   }
  },
  {
   "cell_type": "code",
   "execution_count": null,
   "outputs": [],
   "source": [],
   "metadata": {
    "collapsed": false,
    "pycharm": {
     "name": "#%%\n"
    }
   }
  }
 ],
 "metadata": {
  "kernelspec": {
   "display_name": "Python 3",
   "language": "python",
   "name": "python3"
  },
  "language_info": {
   "codemirror_mode": {
    "name": "ipython",
    "version": 2
   },
   "file_extension": ".py",
   "mimetype": "text/x-python",
   "name": "python",
   "nbconvert_exporter": "python",
   "pygments_lexer": "ipython2",
   "version": "2.7.6"
  }
 },
 "nbformat": 4,
 "nbformat_minor": 0
}