{
 "cells": [
  {
   "cell_type": "code",
   "execution_count": null,
   "outputs": [],
   "source": [
    "import numpy as np\n",
    "import matplotlib.pyplot as plt\n",
    "\n",
    "from evojax.datasets import full_data_loader, combined_dataset_key, digit, fashion, kuzushiji, cifar"
   ],
   "metadata": {
    "collapsed": false,
    "pycharm": {
     "name": "#%%\n"
    }
   }
  },
  {
   "cell_type": "code",
   "execution_count": null,
   "outputs": [],
   "source": [
    "train, val, test = full_data_loader()"
   ],
   "metadata": {
    "collapsed": false,
    "pycharm": {
     "name": "#%%\n"
    }
   }
  },
  {
   "cell_type": "code",
   "execution_count": null,
   "outputs": [],
   "source": [
    "train_images = train.dataset_holder[combined_dataset_key]['image']"
   ],
   "metadata": {
    "collapsed": false,
    "pycharm": {
     "name": "#%%\n"
    }
   }
  },
  {
   "cell_type": "code",
   "execution_count": null,
   "outputs": [],
   "source": [
    "plt.imshow(train_images[0], cmap='Greys')"
   ],
   "metadata": {
    "collapsed": false,
    "pycharm": {
     "name": "#%%\n"
    }
   }
  },
  {
   "cell_type": "code",
   "execution_count": null,
   "outputs": [],
   "source": [
    "plt.imshow(np.concatenate([train_images[i] for i in range(5)], axis=1), cmap='Greys')"
   ],
   "metadata": {
    "collapsed": false,
    "pycharm": {
     "name": "#%%\n"
    }
   }
  },
  {
   "cell_type": "code",
   "execution_count": null,
   "outputs": [],
   "source": [
    "digit_test = test.dataset_holder[digit]['image']\n",
    "plt.imsave(fname='digit_sample.pdf', arr=np.squeeze(np.concatenate([digit_test[i] for i in range(5)], axis=1)), cmap='Greys')"
   ],
   "metadata": {
    "collapsed": false,
    "pycharm": {
     "name": "#%%\n"
    }
   }
  },
  {
   "cell_type": "code",
   "execution_count": null,
   "outputs": [],
   "source": [
    "fashion_test = test.dataset_holder[fashion]['image']\n",
    "# plt.imshow(np.concatenate([fashion_test[i] for i in range(5)], axis=1), cmap='Greys')\n",
    "plt.imsave(fname='fashion_sample.pdf', arr=np.squeeze(np.concatenate([fashion_test[i] for i in range(5)], axis=1)), cmap='Greys')"
   ],
   "metadata": {
    "collapsed": false,
    "pycharm": {
     "name": "#%%\n"
    }
   }
  },
  {
   "cell_type": "code",
   "execution_count": null,
   "outputs": [],
   "source": [
    "kuzushiji_test = test.dataset_holder[kuzushiji]['image']\n",
    "# plt.imshow(np.concatenate([kuzushiji_test[i] for i in range(5)], axis=1), cmap='Greys')\n",
    "plt.imsave(fname='kuzushiji_sample.pdf', arr=np.squeeze(np.concatenate([kuzushiji_test[i] for i in range(5)], axis=1)), cmap='Greys')"
   ],
   "metadata": {
    "collapsed": false,
    "pycharm": {
     "name": "#%%\n"
    }
   }
  },
  {
   "cell_type": "code",
   "execution_count": null,
   "outputs": [],
   "source": [
    "cifar_test = test.dataset_holder[cifar]['image']\n",
    "# plt.imshow(np.concatenate([cifar_test[i] for i in range(5)], axis=1), cmap='Greys')\n",
    "plt.imsave(fname='cifar_sample.pdf', arr=np.squeeze(np.concatenate([cifar_test[i] for i in range(5)], axis=1)), cmap='Greys')"
   ],
   "metadata": {
    "collapsed": false,
    "pycharm": {
     "name": "#%%\n"
    }
   }
  }
 ],
 "metadata": {
  "kernelspec": {
   "display_name": "Python 3",
   "language": "python",
   "name": "python3"
  },
  "language_info": {
   "codemirror_mode": {
    "name": "ipython",
    "version": 2
   },
   "file_extension": ".py",
   "mimetype": "text/x-python",
   "name": "python",
   "nbconvert_exporter": "python",
   "pygments_lexer": "ipython2",
   "version": "2.7.6"
  }
 },
 "nbformat": 4,
 "nbformat_minor": 0
}