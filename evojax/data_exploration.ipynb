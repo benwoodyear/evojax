{
 "cells": [
  {
   "cell_type": "code",
   "execution_count": 1,
   "metadata": {
    "collapsed": true,
    "pycharm": {
     "name": "#%%\n"
    }
   },
   "outputs": [],
   "source": [
    "import numpy as np\n",
    "import pandas as pd\n",
    "import matplotlib.pyplot as plt"
   ]
  },
  {
   "cell_type": "code",
   "execution_count": 2,
   "outputs": [],
   "source": [
    "df = pd.read_csv(\"./data/results/results_run_0918_2018.csv\", index_col=(0, 1, 2), header=0)"
   ],
   "metadata": {
    "collapsed": false,
    "pycharm": {
     "name": "#%%\n"
    }
   }
  },
  {
   "cell_type": "code",
   "execution_count": 3,
   "outputs": [
    {
     "data": {
      "text/plain": "                              0         1         2         3         4  \\\nbaseline train      0  0.663702  0.760328  0.787568  0.805751  0.817967   \n         validation 0  0.741855  0.775590  0.790749  0.805376  0.810769   \n         test       0  0.690457  0.729899  0.743300  0.758219  0.768229   \n         train      1  0.651514  0.769089  0.797388  0.812031  0.824088   \n         validation 1  0.748580  0.785778  0.799272  0.808283  0.815874   \n\n                              5         6         7         8         9  \\\nbaseline train      0  0.826761  0.834601  0.840373  0.845981  0.849980   \n         validation 0  0.818160  0.823042  0.826083  0.823708  0.831166   \n         test       0  0.776340  0.778158  0.782199  0.783257  0.793077   \n         train      1  0.831802  0.838196  0.843335  0.849036  0.853248   \n         validation 1  0.823908  0.823753  0.827437  0.825284  0.827304   \n\n                             10        11        12        13        14  \\\nbaseline train      0  0.855251  0.858557  0.861814  0.865611  0.868421   \n         validation 0  0.832520  0.830455  0.830899  0.831321  0.832675   \n         test       0  0.792318  0.790446  0.789117  0.792698  0.794434   \n         train      1  0.858186  0.861645  0.864912  0.867477  0.871497   \n         validation 1  0.829901  0.829324  0.833296  0.831410  0.835005   \n\n                             15        16        17        18        19  \nbaseline train      0  0.870974  0.873358  0.877144  0.877924  0.881727  \n         validation 0  0.834939  0.835871  0.834761  0.832209  0.836426  \n         test       0  0.794651  0.796604  0.795085  0.791043  0.797553  \n         train      1  0.874269  0.875322  0.878934  0.880128  0.883478  \n         validation 1  0.826616  0.835693  0.833829  0.834961  0.835161  ",
      "text/html": "<div>\n<style scoped>\n    .dataframe tbody tr th:only-of-type {\n        vertical-align: middle;\n    }\n\n    .dataframe tbody tr th {\n        vertical-align: top;\n    }\n\n    .dataframe thead th {\n        text-align: right;\n    }\n</style>\n<table border=\"1\" class=\"dataframe\">\n  <thead>\n    <tr style=\"text-align: right;\">\n      <th></th>\n      <th></th>\n      <th></th>\n      <th>0</th>\n      <th>1</th>\n      <th>2</th>\n      <th>3</th>\n      <th>4</th>\n      <th>5</th>\n      <th>6</th>\n      <th>7</th>\n      <th>8</th>\n      <th>9</th>\n      <th>10</th>\n      <th>11</th>\n      <th>12</th>\n      <th>13</th>\n      <th>14</th>\n      <th>15</th>\n      <th>16</th>\n      <th>17</th>\n      <th>18</th>\n      <th>19</th>\n    </tr>\n  </thead>\n  <tbody>\n    <tr>\n      <th rowspan=\"5\" valign=\"top\">baseline</th>\n      <th>train</th>\n      <th>0</th>\n      <td>0.663702</td>\n      <td>0.760328</td>\n      <td>0.787568</td>\n      <td>0.805751</td>\n      <td>0.817967</td>\n      <td>0.826761</td>\n      <td>0.834601</td>\n      <td>0.840373</td>\n      <td>0.845981</td>\n      <td>0.849980</td>\n      <td>0.855251</td>\n      <td>0.858557</td>\n      <td>0.861814</td>\n      <td>0.865611</td>\n      <td>0.868421</td>\n      <td>0.870974</td>\n      <td>0.873358</td>\n      <td>0.877144</td>\n      <td>0.877924</td>\n      <td>0.881727</td>\n    </tr>\n    <tr>\n      <th>validation</th>\n      <th>0</th>\n      <td>0.741855</td>\n      <td>0.775590</td>\n      <td>0.790749</td>\n      <td>0.805376</td>\n      <td>0.810769</td>\n      <td>0.818160</td>\n      <td>0.823042</td>\n      <td>0.826083</td>\n      <td>0.823708</td>\n      <td>0.831166</td>\n      <td>0.832520</td>\n      <td>0.830455</td>\n      <td>0.830899</td>\n      <td>0.831321</td>\n      <td>0.832675</td>\n      <td>0.834939</td>\n      <td>0.835871</td>\n      <td>0.834761</td>\n      <td>0.832209</td>\n      <td>0.836426</td>\n    </tr>\n    <tr>\n      <th>test</th>\n      <th>0</th>\n      <td>0.690457</td>\n      <td>0.729899</td>\n      <td>0.743300</td>\n      <td>0.758219</td>\n      <td>0.768229</td>\n      <td>0.776340</td>\n      <td>0.778158</td>\n      <td>0.782199</td>\n      <td>0.783257</td>\n      <td>0.793077</td>\n      <td>0.792318</td>\n      <td>0.790446</td>\n      <td>0.789117</td>\n      <td>0.792698</td>\n      <td>0.794434</td>\n      <td>0.794651</td>\n      <td>0.796604</td>\n      <td>0.795085</td>\n      <td>0.791043</td>\n      <td>0.797553</td>\n    </tr>\n    <tr>\n      <th>train</th>\n      <th>1</th>\n      <td>0.651514</td>\n      <td>0.769089</td>\n      <td>0.797388</td>\n      <td>0.812031</td>\n      <td>0.824088</td>\n      <td>0.831802</td>\n      <td>0.838196</td>\n      <td>0.843335</td>\n      <td>0.849036</td>\n      <td>0.853248</td>\n      <td>0.858186</td>\n      <td>0.861645</td>\n      <td>0.864912</td>\n      <td>0.867477</td>\n      <td>0.871497</td>\n      <td>0.874269</td>\n      <td>0.875322</td>\n      <td>0.878934</td>\n      <td>0.880128</td>\n      <td>0.883478</td>\n    </tr>\n    <tr>\n      <th>validation</th>\n      <th>1</th>\n      <td>0.748580</td>\n      <td>0.785778</td>\n      <td>0.799272</td>\n      <td>0.808283</td>\n      <td>0.815874</td>\n      <td>0.823908</td>\n      <td>0.823753</td>\n      <td>0.827437</td>\n      <td>0.825284</td>\n      <td>0.827304</td>\n      <td>0.829901</td>\n      <td>0.829324</td>\n      <td>0.833296</td>\n      <td>0.831410</td>\n      <td>0.835005</td>\n      <td>0.826616</td>\n      <td>0.835693</td>\n      <td>0.833829</td>\n      <td>0.834961</td>\n      <td>0.835161</td>\n    </tr>\n  </tbody>\n</table>\n</div>"
     },
     "execution_count": 3,
     "metadata": {},
     "output_type": "execute_result"
    }
   ],
   "source": [
    "df.head()"
   ],
   "metadata": {
    "collapsed": false,
    "pycharm": {
     "name": "#%%\n"
    }
   }
  },
  {
   "cell_type": "code",
   "execution_count": null,
   "outputs": [],
   "source": [],
   "metadata": {
    "collapsed": false,
    "pycharm": {
     "name": "#%%\n"
    }
   }
  }
 ],
 "metadata": {
  "kernelspec": {
   "display_name": "Python 3",
   "language": "python",
   "name": "python3"
  },
  "language_info": {
   "codemirror_mode": {
    "name": "ipython",
    "version": 2
   },
   "file_extension": ".py",
   "mimetype": "text/x-python",
   "name": "python",
   "nbconvert_exporter": "python",
   "pygments_lexer": "ipython2",
   "version": "2.7.6"
  }
 },
 "nbformat": 4,
 "nbformat_minor": 0
}